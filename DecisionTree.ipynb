{
 "cells": [
  {
   "cell_type": "code",
   "execution_count": 1,
   "metadata": {
    "collapsed": true
   },
   "outputs": [],
   "source": [
    "import pandas as pd\n",
    "import numpy as np\n",
    "import math\n",
    "from sklearn import tree"
   ]
  },
  {
   "cell_type": "markdown",
   "metadata": {},
   "source": [
    "## Data 생성"
   ]
  },
  {
   "cell_type": "code",
   "execution_count": 2,
   "metadata": {
    "collapsed": true
   },
   "outputs": [],
   "source": [
    "data = {'a':[True,True,False,False,True,True,False,False,True,True],\n",
    "    'b':[False,False,True,True,False,False,False,False,True,False],\n",
    "    'c':[True,False,True,False,False,True,False,False,True,True],\n",
    "    'Y':[0,0,1,0,1,1,1,1,0,0]}"
   ]
  },
  {
   "cell_type": "code",
   "execution_count": 3,
   "metadata": {
    "collapsed": true
   },
   "outputs": [],
   "source": [
    "df = pd.DataFrame(data, columns = ['a','b','c','Y'])"
   ]
  },
  {
   "cell_type": "markdown",
   "metadata": {},
   "source": [
    "## Entropy Method 생성"
   ]
  },
  {
   "cell_type": "code",
   "execution_count": 5,
   "metadata": {
    "collapsed": true
   },
   "outputs": [],
   "source": [
    "def getEntropy(data, feature, value):\n",
    "    temp = data[data[feature] == value]\n",
    "    deno = len(temp)\n",
    "    sum = 0\n",
    "    res = 0\n",
    "    for i in range(len(temp['Y'].unique())): # Y 의 모든 값 \n",
    "        nume = len(temp[temp['Y'] == temp['Y'].unique()[i]])\n",
    "        prob = nume / deno\n",
    "        ent = prob * math.log(prob,2)   # base 가 2 \n",
    "        sum += ent\n",
    "    res += sum * (len(temp)/len(data)) \n",
    "    temp = data[data[feature] != value]\n",
    "    deno = len(temp)    \n",
    "    sum = 0\n",
    "    for i in range(len(temp['Y'].unique())): # Y 의 모든 값 \n",
    "        nume = len(temp[temp['Y'] == temp['Y'].unique()[i]])\n",
    "        prob = nume / deno\n",
    "        ent = prob * math.log(prob,2)   # base 가 2 \n",
    "        sum += ent    \n",
    "    res += sum * (len(temp)/len(data))    \n",
    "    return res * (-1)"
   ]
  },
  {
   "cell_type": "markdown",
   "metadata": {},
   "source": [
    "## 최소 Entropy Method 생성"
   ]
  },
  {
   "cell_type": "code",
   "execution_count": 10,
   "metadata": {
    "collapsed": true
   },
   "outputs": [],
   "source": [
    "def getLowestEntropy(data, feature):\n",
    "    minEntropy = 1.0\n",
    "    for feat in feature:\n",
    "        for val in np.unique(data[feat]):\n",
    "            tmpEntropy = getEntropy(data, feat, val)\n",
    "            if tmpEntropy < minEntropy:\n",
    "                minEntropy = tmpEntropy\n",
    "                minFeat = feat\n",
    "    return minFeat, minEntropy"
   ]
  },
  {
   "cell_type": "markdown",
   "metadata": {},
   "source": [
    "## 결과 Tree 에 저장"
   ]
  },
  {
   "cell_type": "code",
   "execution_count": 11,
   "metadata": {
    "collapsed": true
   },
   "outputs": [],
   "source": [
    "def makeTree(data, prevEntropy ):\n",
    "    feature, minEntropy = getLowestEntropy(data, data.columns[:-1])\n",
    "    if minEntropy > prevEntropy:\n",
    "        return data['Y'].value_counts().argmax()\n",
    "    elif len(np.unique(data['Y'])) == 1:\n",
    "        return np.unique(data['Y'])\n",
    "    sub_tree = {feature:{}}\n",
    "    for val in np.unique(data[feature]):\n",
    "        sub_df = data[data[feature] == val]\n",
    "        sub_sub_tree = makeTree(sub_df, minEntropy)\n",
    "        sub_tree[feature][val] = sub_sub_tree\n",
    "    return sub_tree"
   ]
  },
  {
   "cell_type": "code",
   "execution_count": 12,
   "metadata": {},
   "outputs": [
    {
     "data": {
      "text/plain": [
       "{'a': {False: {'b': {False: array([1]),\n",
       "    True: {'c': {False: array([0]), True: array([1])}}}},\n",
       "  True: {'b': {False: 0, True: array([0])}}}}"
      ]
     },
     "execution_count": 12,
     "metadata": {},
     "output_type": "execute_result"
    }
   ],
   "source": [
    "makeTree(df,1)"
   ]
  }
 ],
 "metadata": {
  "kernelspec": {
   "display_name": "Python 3",
   "language": "python",
   "name": "python3"
  },
  "language_info": {
   "codemirror_mode": {
    "name": "ipython",
    "version": 3
   },
   "file_extension": ".py",
   "mimetype": "text/x-python",
   "name": "python",
   "nbconvert_exporter": "python",
   "pygments_lexer": "ipython3",
   "version": "3.6.1"
  }
 },
 "nbformat": 4,
 "nbformat_minor": 2
}
